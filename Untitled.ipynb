{
 "cells": [
  {
   "cell_type": "code",
   "execution_count": 27,
   "id": "751901c8",
   "metadata": {},
   "outputs": [],
   "source": [
    "import pandas as pd \n",
    "import numpy as np\n",
    "from numpy.random import randn,randint\n"
   ]
  },
  {
   "cell_type": "code",
   "execution_count": 15,
   "id": "1fa48866",
   "metadata": {},
   "outputs": [],
   "source": [
    "df = pd.DataFrame(randn(5,4),list1,l2)"
   ]
  },
  {
   "cell_type": "code",
   "execution_count": 9,
   "id": "652f35a9",
   "metadata": {},
   "outputs": [],
   "source": [
    "list1=['a','b','c','d','e']\n",
    "l2=['a','b','c','d']"
   ]
  },
  {
   "cell_type": "code",
   "execution_count": 16,
   "id": "37aab459",
   "metadata": {},
   "outputs": [
    {
     "data": {
      "text/html": [
       "<div>\n",
       "<style scoped>\n",
       "    .dataframe tbody tr th:only-of-type {\n",
       "        vertical-align: middle;\n",
       "    }\n",
       "\n",
       "    .dataframe tbody tr th {\n",
       "        vertical-align: top;\n",
       "    }\n",
       "\n",
       "    .dataframe thead th {\n",
       "        text-align: right;\n",
       "    }\n",
       "</style>\n",
       "<table border=\"1\" class=\"dataframe\">\n",
       "  <thead>\n",
       "    <tr style=\"text-align: right;\">\n",
       "      <th></th>\n",
       "      <th>a</th>\n",
       "      <th>b</th>\n",
       "      <th>c</th>\n",
       "      <th>d</th>\n",
       "    </tr>\n",
       "  </thead>\n",
       "  <tbody>\n",
       "    <tr>\n",
       "      <th>a</th>\n",
       "      <td>-0.913771</td>\n",
       "      <td>1.294330</td>\n",
       "      <td>-1.521046</td>\n",
       "      <td>-0.991087</td>\n",
       "    </tr>\n",
       "    <tr>\n",
       "      <th>b</th>\n",
       "      <td>1.357653</td>\n",
       "      <td>2.054998</td>\n",
       "      <td>-1.874923</td>\n",
       "      <td>-0.034908</td>\n",
       "    </tr>\n",
       "    <tr>\n",
       "      <th>c</th>\n",
       "      <td>0.979938</td>\n",
       "      <td>1.647256</td>\n",
       "      <td>1.096091</td>\n",
       "      <td>-1.040064</td>\n",
       "    </tr>\n",
       "    <tr>\n",
       "      <th>d</th>\n",
       "      <td>-0.057478</td>\n",
       "      <td>-0.612865</td>\n",
       "      <td>-1.672156</td>\n",
       "      <td>0.475758</td>\n",
       "    </tr>\n",
       "    <tr>\n",
       "      <th>e</th>\n",
       "      <td>0.642382</td>\n",
       "      <td>-0.848908</td>\n",
       "      <td>1.018036</td>\n",
       "      <td>0.857017</td>\n",
       "    </tr>\n",
       "  </tbody>\n",
       "</table>\n",
       "</div>"
      ],
      "text/plain": [
       "          a         b         c         d\n",
       "a -0.913771  1.294330 -1.521046 -0.991087\n",
       "b  1.357653  2.054998 -1.874923 -0.034908\n",
       "c  0.979938  1.647256  1.096091 -1.040064\n",
       "d -0.057478 -0.612865 -1.672156  0.475758\n",
       "e  0.642382 -0.848908  1.018036  0.857017"
      ]
     },
     "execution_count": 16,
     "metadata": {},
     "output_type": "execute_result"
    }
   ],
   "source": [
    "df"
   ]
  },
  {
   "cell_type": "code",
   "execution_count": 34,
   "id": "23b60024",
   "metadata": {},
   "outputs": [
    {
     "data": {
      "text/plain": [
       "array([76, 16, 89, 34, 27, 18, 94, 23,  4, 62, 80, 56, 12, 19, 54, 45, 48,\n",
       "       26, 35, 56, 18, 70, 83, 88, 94])"
      ]
     },
     "execution_count": 34,
     "metadata": {},
     "output_type": "execute_result"
    }
   ],
   "source": [
    "arr=randint(0,100,25)\n",
    "arr"
   ]
  },
  {
   "cell_type": "code",
   "execution_count": 38,
   "id": "c9bb4c3f",
   "metadata": {},
   "outputs": [
    {
     "data": {
      "text/plain": [
       "array([[76, 16, 89, 34, 27],\n",
       "       [18, 94, 23,  4, 62],\n",
       "       [80, 56, 12, 19, 54],\n",
       "       [45, 48, 26, 35, 56],\n",
       "       [18, 70, 83, 88, 94]])"
      ]
     },
     "execution_count": 38,
     "metadata": {},
     "output_type": "execute_result"
    }
   ],
   "source": [
    "p=arr.reshape(5,5)\n",
    "p"
   ]
  },
  {
   "cell_type": "code",
   "execution_count": null,
   "id": "2a35fa31",
   "metadata": {},
   "outputs": [],
   "source": []
  },
  {
   "cell_type": "code",
   "execution_count": null,
   "id": "32def008",
   "metadata": {},
   "outputs": [],
   "source": []
  }
 ],
 "metadata": {
  "kernelspec": {
   "display_name": "Python 3 (ipykernel)",
   "language": "python",
   "name": "python3"
  },
  "language_info": {
   "codemirror_mode": {
    "name": "ipython",
    "version": 3
   },
   "file_extension": ".py",
   "mimetype": "text/x-python",
   "name": "python",
   "nbconvert_exporter": "python",
   "pygments_lexer": "ipython3",
   "version": "3.9.7"
  }
 },
 "nbformat": 4,
 "nbformat_minor": 5
}
